{
 "cells": [
  {
   "cell_type": "code",
   "execution_count": 1,
   "id": "98a429db",
   "metadata": {},
   "outputs": [],
   "source": [
    "# ** CHEQUEAR QUÉ LIBRERIAS ESTOY Y NO ESTOY USANDO** \n",
    "import pandas as pd\n",
    "import numpy as np\n",
    "import matplotlib.pyplot as plt\n",
    "from scipy.interpolate import interp1d"
   ]
  },
  {
   "cell_type": "code",
   "execution_count": 3,
   "id": "dee5935b",
   "metadata": {},
   "outputs": [],
   "source": [
    "#dust_file='Dust records corregidos 15-05-22.xlsx' #Base de datos sin valores repetidos, No uniforme\n",
    "\n",
    "#temp_file='Temps records corregidos 15-05-22.xlsx' #Base de datos sin valores repetidos, No uniforme\n",
    "#temp_file='Temps records uniformes 130k.xlsx' #Base de datos sin valores repetidos, No uniforme"
   ]
  },
  {
   "cell_type": "code",
   "execution_count": 3,
   "id": "38696633",
   "metadata": {},
   "outputs": [
    {
     "data": {
      "text/html": [
       "<div>\n",
       "<style scoped>\n",
       "    .dataframe tbody tr th:only-of-type {\n",
       "        vertical-align: middle;\n",
       "    }\n",
       "\n",
       "    .dataframe tbody tr th {\n",
       "        vertical-align: top;\n",
       "    }\n",
       "\n",
       "    .dataframe thead th {\n",
       "        text-align: right;\n",
       "    }\n",
       "</style>\n",
       "<table border=\"1\" class=\"dataframe\">\n",
       "  <thead>\n",
       "    <tr style=\"text-align: right;\">\n",
       "      <th></th>\n",
       "      <th>Year</th>\n",
       "      <th>DustFlux</th>\n",
       "      <th>Year.1</th>\n",
       "      <th>nssCa2 flux</th>\n",
       "      <th>Year.2</th>\n",
       "      <th>Ca2+</th>\n",
       "      <th>Year.3</th>\n",
       "      <th>DustConc</th>\n",
       "      <th>Year.4</th>\n",
       "      <th>Ca2+.1</th>\n",
       "    </tr>\n",
       "  </thead>\n",
       "  <tbody>\n",
       "    <tr>\n",
       "      <th>0</th>\n",
       "      <td>0.375</td>\n",
       "      <td>0.259</td>\n",
       "      <td>1.202</td>\n",
       "      <td>1528.388706</td>\n",
       "      <td>3.791000</td>\n",
       "      <td>0.100000</td>\n",
       "      <td>5.000000</td>\n",
       "      <td>305.363666</td>\n",
       "      <td>7.800600</td>\n",
       "      <td>12.8</td>\n",
       "    </tr>\n",
       "    <tr>\n",
       "      <th>1</th>\n",
       "      <td>0.376</td>\n",
       "      <td>NaN</td>\n",
       "      <td>1.203</td>\n",
       "      <td>2032.857113</td>\n",
       "      <td>3.792000</td>\n",
       "      <td>1.050000</td>\n",
       "      <td>5.001000</td>\n",
       "      <td>NaN</td>\n",
       "      <td>7.801601</td>\n",
       "      <td>NaN</td>\n",
       "    </tr>\n",
       "    <tr>\n",
       "      <th>2</th>\n",
       "      <td>0.377</td>\n",
       "      <td>NaN</td>\n",
       "      <td>1.204</td>\n",
       "      <td>4912.886973</td>\n",
       "      <td>3.793000</td>\n",
       "      <td>0.616667</td>\n",
       "      <td>5.002000</td>\n",
       "      <td>NaN</td>\n",
       "      <td>7.802602</td>\n",
       "      <td>NaN</td>\n",
       "    </tr>\n",
       "    <tr>\n",
       "      <th>3</th>\n",
       "      <td>0.378</td>\n",
       "      <td>NaN</td>\n",
       "      <td>1.205</td>\n",
       "      <td>8533.933273</td>\n",
       "      <td>3.794001</td>\n",
       "      <td>0.050000</td>\n",
       "      <td>5.003001</td>\n",
       "      <td>NaN</td>\n",
       "      <td>7.803603</td>\n",
       "      <td>NaN</td>\n",
       "    </tr>\n",
       "    <tr>\n",
       "      <th>4</th>\n",
       "      <td>0.379</td>\n",
       "      <td>NaN</td>\n",
       "      <td>1.206</td>\n",
       "      <td>4206.537792</td>\n",
       "      <td>3.795001</td>\n",
       "      <td>0.866667</td>\n",
       "      <td>5.004001</td>\n",
       "      <td>NaN</td>\n",
       "      <td>7.804603</td>\n",
       "      <td>NaN</td>\n",
       "    </tr>\n",
       "  </tbody>\n",
       "</table>\n",
       "</div>"
      ],
      "text/plain": [
       "    Year  DustFlux  Year.1  nssCa2 flux    Year.2      Ca2+    Year.3  \\\n",
       "0  0.375     0.259   1.202  1528.388706  3.791000  0.100000  5.000000   \n",
       "1  0.376       NaN   1.203  2032.857113  3.792000  1.050000  5.001000   \n",
       "2  0.377       NaN   1.204  4912.886973  3.793000  0.616667  5.002000   \n",
       "3  0.378       NaN   1.205  8533.933273  3.794001  0.050000  5.003001   \n",
       "4  0.379       NaN   1.206  4206.537792  3.795001  0.866667  5.004001   \n",
       "\n",
       "     DustConc    Year.4  Ca2+.1  \n",
       "0  305.363666  7.800600    12.8  \n",
       "1         NaN  7.801601     NaN  \n",
       "2         NaN  7.802602     NaN  \n",
       "3         NaN  7.803603     NaN  \n",
       "4         NaN  7.804603     NaN  "
      ]
     },
     "execution_count": 3,
     "metadata": {},
     "output_type": "execute_result"
    }
   ],
   "source": [
    "id_columns=['Name','Data id','Latitud','Longitud','Age units','Data units','Data length']\n",
    "\n",
    "\n",
    "id_data=pd.read_excel(dust_file,sheet_name=0,usecols=id_columns)\n",
    "#id_data=pd.read_excel(temp_file,sheet_name=0,usecols=id_columns)\n",
    "#id_data.head()\n",
    "\n",
    "df_data=pd.read_excel(dust_file,sheet_name=1,skiprows=1)\n",
    "#df_data=pd.read_excel(temp_file,sheet_name=1,skiprows=1)\n",
    "df_data.head()"
   ]
  },
  {
   "cell_type": "code",
   "execution_count": 4,
   "id": "c772870b",
   "metadata": {},
   "outputs": [],
   "source": [
    "#SEPARAR CADA UNA DE LAS COLUMNAS v.2\n",
    "columns=df_data.size/len(df_data) #data.size = nxm ; len(data) = n -> cuociente = m = n°columnas\n",
    "lis=[] #Lista de dupla de dataframes: Age & Values\n",
    "new_length=np.array([])\n",
    "\n",
    "for i in range(int(columns)):\n",
    "    if (i+1)%2==1: #División completa, voy de 2 en 2\n",
    "        dupla=df_data[[df_data.columns[i],df_data.columns[i+1]]][:id_data['Data length'][int(i/2)]]\n",
    "        dupla.index=[j for j in range(0, len(dupla))] \n",
    "        lis.append(dupla)\n",
    "        new_length=np.append(new_length,np.shape(dupla)[0])"
   ]
  },
  {
   "cell_type": "code",
   "execution_count": 9,
   "id": "724cb3fa",
   "metadata": {},
   "outputs": [
    {
     "data": {
      "text/plain": [
       "0      0.259\n",
       "1        NaN\n",
       "2        NaN\n",
       "3        NaN\n",
       "4        NaN\n",
       "       ...  \n",
       "371      NaN\n",
       "372      NaN\n",
       "373      NaN\n",
       "374      NaN\n",
       "375    0.351\n",
       "Name: DustFlux, Length: 376, dtype: float64"
      ]
     },
     "execution_count": 9,
     "metadata": {},
     "output_type": "execute_result"
    }
   ],
   "source": [
    "lis[0][lis[0].columns[1]]"
   ]
  },
  {
   "cell_type": "code",
   "execution_count": 5,
   "id": "6e6ef392",
   "metadata": {
    "scrolled": true
   },
   "outputs": [
    {
     "name": "stdout",
     "output_type": "stream",
     "text": [
      "376\n",
      "376\n"
     ]
    }
   ],
   "source": [
    "## ACA ELIJO CON CUAL PROXY VOY A TRABAJAR\n",
    "dataset=1\n",
    "n=dataset-1 #de python -> n+1 id dataset\n",
    "\n",
    "original_age_dust=lis[n][lis[n].columns[0]]\n",
    "original_values_dust=lis[n][lis[n].columns[1]]\n",
    "\n",
    "#########################################\n",
    "d_nan=original_values_dust.isna()\n",
    "nan_in_row=[]\n",
    "for i in d_nan:\n",
    "    if i==False:\n",
    "        nan_in_row.append(0)\n",
    "    else:\n",
    "        nan_in_row.append(1)\n",
    "#########################################\n",
    "\n",
    "\n",
    "#contador de nan's in row\n",
    "aux=[]\n",
    "contador_de_nans=0\n",
    "for i in range(len(d_nan)):\n",
    "    if d_nan[i]==True:\n",
    "        contador_de_nans+=1\n",
    "    if d_nan[i]==False and contador_de_nans!=0:\n",
    "        #aux.append(0)\n",
    "        aux.append(contador_de_nans)\n",
    "        contador_de_nans=0\n",
    "#########################################\n",
    "\n",
    "new_dataset=[original_values_dust[n]] #n en vez de 0\n",
    "indice_aux=0\n",
    "indice_borrador=0\n",
    "\n",
    "for i in range(1,len(nan_in_row)):\n",
    "    if nan_in_row[i]==0:\n",
    "        new_dataset.append(original_values_dust[i])\n",
    "    if nan_in_row[i]==1:\n",
    "        #print(i-1,'    ',i+aux[indice_aux])\n",
    "        #print(indice_aux)\n",
    "        try:            \n",
    "            x = np.array([original_age_dust[i-1],original_age_dust[i+aux[indice_aux]]])#tomo el valo anterior y el siguiente\n",
    "            y = np.array([original_values_dust[i-1],original_values_dust[i+aux[indice_aux]]])#tomo el valo anterior y el siguiente\n",
    "            new_points=aux[indice_aux]\n",
    "            f2=interp1d(x, y, kind='linear')\n",
    "            xnew = np.linspace(x.min(), x.max(), num=int(new_points)+1, endpoint=False)\n",
    "            points=f2(xnew)\n",
    "            for p in range(1,len(points)):\n",
    "                new_dataset.append(points[p])\n",
    "            for j in range(1,aux[indice_aux]):\n",
    "                nan_in_row[i+j]=2\n",
    "            indice_aux+=1\n",
    "            \n",
    "        except:\n",
    "            print('error en intervalo',i,'      [',i-1,' - ',i+aux[-1],']')\n",
    "            print('len aux: ',len(aux))\n",
    "            print('indice aux: ',indice_aux,'\\n')\n",
    "            indice_aux+=1    \n",
    "\n",
    "print(len(original_values_dust))\n",
    "print(len(new_dataset))      "
   ]
  },
  {
   "cell_type": "code",
   "execution_count": 6,
   "id": "e8923878",
   "metadata": {},
   "outputs": [
    {
     "data": {
      "text/plain": [
       "0      0.375000\n",
       "1      0.376000\n",
       "2      0.377000\n",
       "3      0.378000\n",
       "4      0.379000\n",
       "         ...   \n",
       "371    0.746039\n",
       "372    0.747039\n",
       "373    0.748039\n",
       "374    0.749039\n",
       "375    0.750039\n",
       "Name: Year, Length: 376, dtype: float64"
      ]
     },
     "execution_count": 6,
     "metadata": {},
     "output_type": "execute_result"
    }
   ],
   "source": [
    "original_age_dust"
   ]
  },
  {
   "cell_type": "code",
   "execution_count": 30,
   "id": "7ec27381",
   "metadata": {},
   "outputs": [],
   "source": [
    "#guardar los datos\n",
    "dust12_interpolado=pd.DataFrame(new_dataset, columns = ['values'])\n",
    "dust12_interpolado.to_excel('dust12_interpolado.xlsx')"
   ]
  },
  {
   "cell_type": "code",
   "execution_count": 17,
   "id": "1938a6a2",
   "metadata": {},
   "outputs": [],
   "source": [
    "#temp7_interpolado=pd.DataFrame(new_dataset, columns = ['values'])\n",
    "#temp7_interpolado.to_excel('temp7_interpolado.xlsx')"
   ]
  },
  {
   "cell_type": "markdown",
   "id": "f43cc067",
   "metadata": {},
   "source": [
    "### Cuando tira error pruebo con este"
   ]
  },
  {
   "cell_type": "code",
   "execution_count": null,
   "id": "a70d39a6",
   "metadata": {},
   "outputs": [],
   "source": []
  },
  {
   "cell_type": "code",
   "execution_count": 11,
   "id": "b2664ab7",
   "metadata": {},
   "outputs": [],
   "source": [
    "#dust_file='DustError6.xls'  #Base de datos sin valores repetidos, Uniforme\n",
    "#dust_file='TempError4.xls'  #Base de datos sin valores repetidos, Uniforme\n",
    "#dust_file='Talos dome uniform.xlsx'\n",
    "dust_file='13-valores_a_interpolar-800.xlsx'\n",
    "\n",
    "\n",
    "df_data=pd.read_excel(dust_file,sheet_name=0,skiprows=0)"
   ]
  },
  {
   "cell_type": "code",
   "execution_count": 12,
   "id": "4a99c1a6",
   "metadata": {},
   "outputs": [
    {
     "data": {
      "image/png": "[encoded data removed]",
      "text/plain": [
       "<Figure size 432x288 with 1 Axes>"
      ]
     },
     "metadata": {
      "needs_background": "light"
     },
     "output_type": "display_data"
    }
   ],
   "source": [
    "plt.plot(df_data[df_data.columns[0]],df_data[df_data.columns[1]],'o')\n",
    "plt.show()"
   ]
  },
  {
   "cell_type": "code",
   "execution_count": 13,
   "id": "fa076731",
   "metadata": {},
   "outputs": [
    {
     "data": {
      "text/plain": [
       "0            NaN\n",
       "1       0.245492\n",
       "2       0.101165\n",
       "3            NaN\n",
       "4            NaN\n",
       "          ...   \n",
       "1994         NaN\n",
       "1995    2.630681\n",
       "1996    2.640559\n",
       "1997    2.831559\n",
       "1998         NaN\n",
       "Name: Unnamed: 1, Length: 1999, dtype: float64"
      ]
     },
     "execution_count": 13,
     "metadata": {},
     "output_type": "execute_result"
    }
   ],
   "source": [
    "df_data[df_data.columns[1]]"
   ]
  },
  {
   "cell_type": "code",
   "execution_count": 14,
   "id": "ad79b1b1",
   "metadata": {},
   "outputs": [
    {
     "data": {
      "text/plain": [
       "[<matplotlib.lines.Line2D at 0x1ac5728bf70>]"
      ]
     },
     "execution_count": 14,
     "metadata": {},
     "output_type": "execute_result"
    },
    {
     "data": {
      "image/png": "[encoded data removed]",
      "text/plain": [
       "<Figure size 432x288 with 1 Axes>"
      ]
     },
     "metadata": {
      "needs_background": "light"
     },
     "output_type": "display_data"
    }
   ],
   "source": [
    "plt.plot(df_data[df_data.columns[1]],'o')"
   ]
  },
  {
   "cell_type": "code",
   "execution_count": 15,
   "id": "70b5ca38",
   "metadata": {},
   "outputs": [],
   "source": [
    "original_age_dust=df_data[df_data.columns[0]]\n",
    "original_values_dust=df_data[df_data.columns[1]]\n"
   ]
  },
  {
   "cell_type": "code",
   "execution_count": 16,
   "id": "7f341d93",
   "metadata": {},
   "outputs": [
    {
     "data": {
      "text/plain": [
       "0            NaN\n",
       "1       0.245492\n",
       "2       0.101165\n",
       "3            NaN\n",
       "4            NaN\n",
       "          ...   \n",
       "1994         NaN\n",
       "1995    2.630681\n",
       "1996    2.640559\n",
       "1997    2.831559\n",
       "1998         NaN\n",
       "Name: Unnamed: 1, Length: 1999, dtype: float64"
      ]
     },
     "execution_count": 16,
     "metadata": {},
     "output_type": "execute_result"
    }
   ],
   "source": [
    "original_values_dust"
   ]
  },
  {
   "cell_type": "code",
   "execution_count": 17,
   "id": "4df213df",
   "metadata": {},
   "outputs": [
    {
     "name": "stdout",
     "output_type": "stream",
     "text": [
      "error en intervalo 2001       [ 2000  -  1999 ]   de excel\n",
      "len aux:  490\n",
      "indice aux:  490 \n",
      "\n",
      "1999\n",
      "1998\n"
     ]
    }
   ],
   "source": [
    "\n",
    "\n",
    "#########################################\n",
    "d_nan=original_values_dust.isna()\n",
    "nan_in_row=[]\n",
    "for i in d_nan:\n",
    "    if i==False:\n",
    "        nan_in_row.append(0)\n",
    "    else:\n",
    "        nan_in_row.append(1)\n",
    "#########################################\n",
    "\n",
    "\n",
    "#contador de nan's in row\n",
    "aux=[]\n",
    "contador_de_nans=0\n",
    "for i in range(len(d_nan)):\n",
    "    if d_nan[i]==True:\n",
    "        contador_de_nans+=1\n",
    "    if d_nan[i]==False and contador_de_nans!=0:\n",
    "        #aux.append(0)\n",
    "        aux.append(contador_de_nans)\n",
    "        contador_de_nans=0\n",
    "#########################################\n",
    "\n",
    "new_dataset=[original_values_dust[3]] #n en vez de 0 #### BUUUUUG (en vez de 3, era n)\n",
    "#new_dataset=[original_values_dust] #n en vez de 0\n",
    "indice_aux=0\n",
    "indice_borrador=0\n",
    "\n",
    "for i in range(1,len(nan_in_row)):\n",
    "    if nan_in_row[i]==0:\n",
    "        new_dataset.append(original_values_dust[i])\n",
    "    if nan_in_row[i]==1:\n",
    "        #print(i-1,'    ',i+aux[indice_aux])\n",
    "        #print(indice_aux)\n",
    "        try:            \n",
    "            x = np.array([original_age_dust[i-1],original_age_dust[i+aux[indice_aux]]])#tomo el valo anterior y el siguiente\n",
    "            y = np.array([original_values_dust[i-1],original_values_dust[i+aux[indice_aux]]])#tomo el valo anterior y el siguiente\n",
    "            new_points=aux[indice_aux]\n",
    "            f2=interp1d(x, y, kind='linear')\n",
    "            xnew = np.linspace(x.min(), x.max(), num=int(new_points)+1, endpoint=False)\n",
    "            points=f2(xnew)\n",
    "            for p in range(1,len(points)):\n",
    "                new_dataset.append(points[p])\n",
    "            for j in range(1,aux[indice_aux]):\n",
    "                nan_in_row[i+j]=2\n",
    "            indice_aux+=1\n",
    "            \n",
    "        except:\n",
    "            print('error en intervalo',i+3,'      [',i+3-1,' - ',i+aux[-1],']   de excel')\n",
    "            print('len aux: ',len(aux))\n",
    "            print('indice aux: ',indice_aux,'\\n')\n",
    "            indice_aux+=1    \n",
    "\n",
    "print(len(original_values_dust))\n",
    "print(len(new_dataset))   "
   ]
  },
  {
   "cell_type": "code",
   "execution_count": 12,
   "id": "6fd1082e",
   "metadata": {},
   "outputs": [
    {
     "data": {
      "text/plain": [
       "5975"
      ]
     },
     "execution_count": 12,
     "metadata": {},
     "output_type": "execute_result"
    }
   ],
   "source": []
  },
  {
   "cell_type": "code",
   "execution_count": 18,
   "id": "e1bbbb43",
   "metadata": {},
   "outputs": [],
   "source": [
    "dust5_interpolado=pd.DataFrame(new_dataset, columns = ['values'])\n",
    "#dust5_interpolado.to_excel('dust6_interpolado.xlsx')\n",
    "#dust5_interpolado.to_excel('Talos complete interpolated.xlsx')\n",
    "dust5_interpolado.to_excel('13-valores_interpolados-800.xlsx')\n"
   ]
  },
  {
   "cell_type": "code",
   "execution_count": null,
   "id": "526950cc",
   "metadata": {},
   "outputs": [],
   "source": []
  }
 ],
 "metadata": {
  "kernelspec": {
   "display_name": "Python 3",
   "language": "python",
   "name": "python3"
  },
  "language_info": {
   "codemirror_mode": {
    "name": "ipython",
    "version": 3
   },
   "file_extension": ".py",
   "mimetype": "text/x-python",
   "name": "python",
   "nbconvert_exporter": "python",
   "pygments_lexer": "ipython3",
   "version": "3.8.8"
  }
 },
 "nbformat": 4,
 "nbformat_minor": 5
}
