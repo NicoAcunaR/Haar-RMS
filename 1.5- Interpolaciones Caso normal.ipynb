{
 "cells": [
  {
   "cell_type": "code",
   "execution_count": 1,
   "id": "98a429db",
   "metadata": {},
   "outputs": [],
   "source": [
    "# ** CHEQUEAR QUÉ LIBRERIAS ESTOY Y NO ESTOY USANDO** \n",
    "import pandas as pd\n",
    "import numpy as np\n",
    "import matplotlib.pyplot as plt\n",
    "from scipy.interpolate import interp1d"
   ]
  },
  {
   "cell_type": "code",
   "execution_count": 2,
   "id": "dee5935b",
   "metadata": {},
   "outputs": [],
   "source": [
    "#dust_file='Dust records corregidos 15-05-22.xlsx' #Base de datos sin valores repetidos, No uniforme\n",
    "dust_file='Holocene Dust.xlsx'  #Base de datos 10k, no uniforme. \n",
    "\n",
    "\n",
    "#temp_file='Temps records corregidos 15-05-22.xlsx' #Base de datos sin valores repetidos, No uniforme\n",
    "#temp_file='Temps records uniformes 130k.xlsx' #Base de datos sin valores repetidos, No uniforme"
   ]
  },
  {
   "cell_type": "code",
   "execution_count": 3,
   "id": "38696633",
   "metadata": {},
   "outputs": [
    {
     "data": {
      "text/html": [
       "<div>\n",
       "<style scoped>\n",
       "    .dataframe tbody tr th:only-of-type {\n",
       "        vertical-align: middle;\n",
       "    }\n",
       "\n",
       "    .dataframe tbody tr th {\n",
       "        vertical-align: top;\n",
       "    }\n",
       "\n",
       "    .dataframe thead th {\n",
       "        text-align: right;\n",
       "    }\n",
       "</style>\n",
       "<table border=\"1\" class=\"dataframe\">\n",
       "  <thead>\n",
       "    <tr style=\"text-align: right;\">\n",
       "      <th></th>\n",
       "      <th>Year</th>\n",
       "      <th>DustFlux</th>\n",
       "      <th>Year.1</th>\n",
       "      <th>DustFlux.1</th>\n",
       "      <th>Year.2</th>\n",
       "      <th>nssCa2 flux</th>\n",
       "      <th>Year.3</th>\n",
       "      <th>Ca2+</th>\n",
       "      <th>Year.4</th>\n",
       "      <th>Lithogenic</th>\n",
       "      <th>...</th>\n",
       "      <th>Year.7</th>\n",
       "      <th>DustFlux.4</th>\n",
       "      <th>Year.8</th>\n",
       "      <th>DustFlux.5</th>\n",
       "      <th>Year.9</th>\n",
       "      <th>MAR</th>\n",
       "      <th>Year.10</th>\n",
       "      <th>DustConc</th>\n",
       "      <th>Year.11</th>\n",
       "      <th>Ca2+.1</th>\n",
       "    </tr>\n",
       "  </thead>\n",
       "  <tbody>\n",
       "    <tr>\n",
       "      <th>0</th>\n",
       "      <td>4.509</td>\n",
       "      <td>602.784</td>\n",
       "      <td>0.375</td>\n",
       "      <td>0.259</td>\n",
       "      <td>1.202</td>\n",
       "      <td>1528.388706</td>\n",
       "      <td>3.791</td>\n",
       "      <td>0.100000</td>\n",
       "      <td>0.620575</td>\n",
       "      <td>6.380517</td>\n",
       "      <td>...</td>\n",
       "      <td>6.494265</td>\n",
       "      <td>0.098728</td>\n",
       "      <td>1.15</td>\n",
       "      <td>238095.24</td>\n",
       "      <td>0.0</td>\n",
       "      <td>10.72</td>\n",
       "      <td>5.00</td>\n",
       "      <td>305.363666</td>\n",
       "      <td>7.8006</td>\n",
       "      <td>12.8</td>\n",
       "    </tr>\n",
       "    <tr>\n",
       "      <th>1</th>\n",
       "      <td>4.552</td>\n",
       "      <td>423.903</td>\n",
       "      <td>0.400</td>\n",
       "      <td>0.329</td>\n",
       "      <td>1.203</td>\n",
       "      <td>2032.857113</td>\n",
       "      <td>3.792</td>\n",
       "      <td>1.050000</td>\n",
       "      <td>0.827434</td>\n",
       "      <td>7.131424</td>\n",
       "      <td>...</td>\n",
       "      <td>7.162711</td>\n",
       "      <td>0.085866</td>\n",
       "      <td>2.20</td>\n",
       "      <td>238095.24</td>\n",
       "      <td>2.0</td>\n",
       "      <td>10.40</td>\n",
       "      <td>5.05</td>\n",
       "      <td>471.395055</td>\n",
       "      <td>7.8058</td>\n",
       "      <td>13.2</td>\n",
       "    </tr>\n",
       "    <tr>\n",
       "      <th>2</th>\n",
       "      <td>4.690</td>\n",
       "      <td>299.095</td>\n",
       "      <td>0.425</td>\n",
       "      <td>0.652</td>\n",
       "      <td>1.204</td>\n",
       "      <td>4912.886973</td>\n",
       "      <td>3.793</td>\n",
       "      <td>0.616667</td>\n",
       "      <td>1.034292</td>\n",
       "      <td>7.741062</td>\n",
       "      <td>...</td>\n",
       "      <td>7.521446</td>\n",
       "      <td>0.084138</td>\n",
       "      <td>3.25</td>\n",
       "      <td>277777.78</td>\n",
       "      <td>4.0</td>\n",
       "      <td>8.57</td>\n",
       "      <td>5.10</td>\n",
       "      <td>266.747998</td>\n",
       "      <td>7.8111</td>\n",
       "      <td>13.6</td>\n",
       "    </tr>\n",
       "    <tr>\n",
       "      <th>3</th>\n",
       "      <td>5.259</td>\n",
       "      <td>734.449</td>\n",
       "      <td>0.450</td>\n",
       "      <td>0.341</td>\n",
       "      <td>1.205</td>\n",
       "      <td>8533.933273</td>\n",
       "      <td>3.794</td>\n",
       "      <td>0.050000</td>\n",
       "      <td>1.241151</td>\n",
       "      <td>7.877875</td>\n",
       "      <td>...</td>\n",
       "      <td>7.846931</td>\n",
       "      <td>0.087230</td>\n",
       "      <td>4.15</td>\n",
       "      <td>265957.45</td>\n",
       "      <td>6.0</td>\n",
       "      <td>7.80</td>\n",
       "      <td>5.15</td>\n",
       "      <td>252.657484</td>\n",
       "      <td>7.8163</td>\n",
       "      <td>17.2</td>\n",
       "    </tr>\n",
       "    <tr>\n",
       "      <th>4</th>\n",
       "      <td>5.674</td>\n",
       "      <td>603.242</td>\n",
       "      <td>0.475</td>\n",
       "      <td>0.312</td>\n",
       "      <td>1.206</td>\n",
       "      <td>4206.537792</td>\n",
       "      <td>3.795</td>\n",
       "      <td>0.866667</td>\n",
       "      <td>1.448009</td>\n",
       "      <td>7.512894</td>\n",
       "      <td>...</td>\n",
       "      <td>8.156088</td>\n",
       "      <td>0.087368</td>\n",
       "      <td>5.09</td>\n",
       "      <td>263157.89</td>\n",
       "      <td>8.0</td>\n",
       "      <td>7.98</td>\n",
       "      <td>5.20</td>\n",
       "      <td>338.667402</td>\n",
       "      <td>7.8215</td>\n",
       "      <td>16.4</td>\n",
       "    </tr>\n",
       "  </tbody>\n",
       "</table>\n",
       "<p>5 rows × 24 columns</p>\n",
       "</div>"
      ],
      "text/plain": [
       "    Year  DustFlux  Year.1  DustFlux.1  Year.2  nssCa2 flux  Year.3      Ca2+  \\\n",
       "0  4.509   602.784   0.375       0.259   1.202  1528.388706   3.791  0.100000   \n",
       "1  4.552   423.903   0.400       0.329   1.203  2032.857113   3.792  1.050000   \n",
       "2  4.690   299.095   0.425       0.652   1.204  4912.886973   3.793  0.616667   \n",
       "3  5.259   734.449   0.450       0.341   1.205  8533.933273   3.794  0.050000   \n",
       "4  5.674   603.242   0.475       0.312   1.206  4206.537792   3.795  0.866667   \n",
       "\n",
       "     Year.4  Lithogenic  ...    Year.7  DustFlux.4  Year.8  DustFlux.5  \\\n",
       "0  0.620575    6.380517  ...  6.494265    0.098728    1.15   238095.24   \n",
       "1  0.827434    7.131424  ...  7.162711    0.085866    2.20   238095.24   \n",
       "2  1.034292    7.741062  ...  7.521446    0.084138    3.25   277777.78   \n",
       "3  1.241151    7.877875  ...  7.846931    0.087230    4.15   265957.45   \n",
       "4  1.448009    7.512894  ...  8.156088    0.087368    5.09   263157.89   \n",
       "\n",
       "   Year.9    MAR  Year.10    DustConc  Year.11  Ca2+.1  \n",
       "0     0.0  10.72     5.00  305.363666   7.8006    12.8  \n",
       "1     2.0  10.40     5.05  471.395055   7.8058    13.2  \n",
       "2     4.0   8.57     5.10  266.747998   7.8111    13.6  \n",
       "3     6.0   7.80     5.15  252.657484   7.8163    17.2  \n",
       "4     8.0   7.98     5.20  338.667402   7.8215    16.4  \n",
       "\n",
       "[5 rows x 24 columns]"
      ]
     },
     "execution_count": 3,
     "metadata": {},
     "output_type": "execute_result"
    }
   ],
   "source": [
    "id_columns=['Name','Data id','Latitud','Longitud','Age units','Data units','Data length']\n",
    "\n",
    "\n",
    "id_data=pd.read_excel(dust_file,sheet_name=0,usecols=id_columns)\n",
    "#id_data=pd.read_excel(temp_file,sheet_name=0,usecols=id_columns)\n",
    "#id_data.head()\n",
    "\n",
    "df_data=pd.read_excel(dust_file,sheet_name=1,skiprows=1)\n",
    "#df_data=pd.read_excel(temp_file,sheet_name=1,skiprows=1)\n",
    "df_data.head()"
   ]
  },
  {
   "cell_type": "code",
   "execution_count": 4,
   "id": "c772870b",
   "metadata": {},
   "outputs": [],
   "source": [
    "#SEPARAR CADA UNA DE LAS COLUMNAS v.2\n",
    "columns=df_data.size/len(df_data) #data.size = nxm ; len(data) = n -> cuociente = m = n°columnas\n",
    "lis=[] #Lista de dupla de dataframes: Age & Values\n",
    "new_length=np.array([])\n",
    "\n",
    "for i in range(int(columns)):\n",
    "    if (i+1)%2==1: #División completa, voy de 2 en 2\n",
    "        dupla=df_data[[df_data.columns[i],df_data.columns[i+1]]][:id_data['Data length'][int(i/2)]]\n",
    "        dupla.index=[j for j in range(0, len(dupla))] \n",
    "        lis.append(dupla)\n",
    "        new_length=np.append(new_length,np.shape(dupla)[0])"
   ]
  },
  {
   "cell_type": "code",
   "execution_count": 44,
   "id": "724cb3fa",
   "metadata": {},
   "outputs": [
    {
     "name": "stdout",
     "output_type": "stream",
     "text": [
      "250\n"
     ]
    }
   ],
   "source": [
    "for i in range(len(lis)):\n",
    "    print(len(lis[i]))"
   ]
  },
  {
   "cell_type": "code",
   "execution_count": 5,
   "id": "6e6ef392",
   "metadata": {},
   "outputs": [
    {
     "name": "stdout",
     "output_type": "stream",
     "text": [
      "14\n",
      "14\n"
     ]
    }
   ],
   "source": [
    "## ACA ELIJO CON CUAL PROXY VOY A TRABAJAR\n",
    "dataset=1\n",
    "n=dataset-1 #de python -> n+1 id dataset\n",
    "\n",
    "original_age_dust=lis[n][lis[n].columns[0]]\n",
    "original_values_dust=lis[n][lis[n].columns[1]]\n",
    "\n",
    "#########################################\n",
    "d_nan=original_values_dust.isna()\n",
    "nan_in_row=[]\n",
    "for i in d_nan:\n",
    "    if i==False:\n",
    "        nan_in_row.append(0)\n",
    "    else:\n",
    "        nan_in_row.append(1)\n",
    "#########################################\n",
    "\n",
    "\n",
    "#contador de nan's in row\n",
    "aux=[]\n",
    "contador_de_nans=0\n",
    "for i in range(len(d_nan)):\n",
    "    if d_nan[i]==True:\n",
    "        contador_de_nans+=1\n",
    "    if d_nan[i]==False and contador_de_nans!=0:\n",
    "        #aux.append(0)\n",
    "        aux.append(contador_de_nans)\n",
    "        contador_de_nans=0\n",
    "#########################################\n",
    "\n",
    "new_dataset=[original_values_dust[n]] #n en vez de 0\n",
    "indice_aux=0\n",
    "indice_borrador=0\n",
    "\n",
    "for i in range(1,len(nan_in_row)):\n",
    "    if nan_in_row[i]==0:\n",
    "        new_dataset.append(original_values_dust[i])\n",
    "    if nan_in_row[i]==1:\n",
    "        #print(i-1,'    ',i+aux[indice_aux])\n",
    "        #print(indice_aux)\n",
    "        try:            \n",
    "            x = np.array([original_age_dust[i-1],original_age_dust[i+aux[indice_aux]]])#tomo el valo anterior y el siguiente\n",
    "            y = np.array([original_values_dust[i-1],original_values_dust[i+aux[indice_aux]]])#tomo el valo anterior y el siguiente\n",
    "            new_points=aux[indice_aux]\n",
    "            f2=interp1d(x, y, kind='linear')\n",
    "            xnew = np.linspace(x.min(), x.max(), num=int(new_points)+1, endpoint=False)\n",
    "            points=f2(xnew)\n",
    "            for p in range(1,len(points)):\n",
    "                new_dataset.append(points[p])\n",
    "            for j in range(1,aux[indice_aux]):\n",
    "                nan_in_row[i+j]=2\n",
    "            indice_aux+=1\n",
    "            \n",
    "        except:\n",
    "            print('error en intervalo',i,'      [',i-1,' - ',i+aux[-1],']')\n",
    "            print('len aux: ',len(aux))\n",
    "            print('indice aux: ',indice_aux,'\\n')\n",
    "            indice_aux+=1    \n",
    "\n",
    "print(len(original_values_dust))\n",
    "print(len(new_dataset))      "
   ]
  },
  {
   "cell_type": "code",
   "execution_count": null,
   "id": "e8923878",
   "metadata": {},
   "outputs": [],
   "source": []
  },
  {
   "cell_type": "code",
   "execution_count": 6,
   "id": "7ec27381",
   "metadata": {},
   "outputs": [],
   "source": [
    "#guardar los datos\n",
    "dust1_interpolado=pd.DataFrame(new_dataset, columns = ['values'])\n",
    "dust1_interpolado.to_excel('dust1_interpolado.xlsx')"
   ]
  },
  {
   "cell_type": "code",
   "execution_count": 17,
   "id": "1938a6a2",
   "metadata": {},
   "outputs": [],
   "source": [
    "#temp7_interpolado=pd.DataFrame(new_dataset, columns = ['values'])\n",
    "#temp7_interpolado.to_excel('temp7_interpolado.xlsx')"
   ]
  },
  {
   "cell_type": "markdown",
   "id": "f43cc067",
   "metadata": {},
   "source": [
    "### Cuando tira error pruebo con este"
   ]
  },
  {
   "cell_type": "code",
   "execution_count": null,
   "id": "a70d39a6",
   "metadata": {},
   "outputs": [],
   "source": []
  },
  {
   "cell_type": "code",
   "execution_count": 6,
   "id": "b2664ab7",
   "metadata": {},
   "outputs": [],
   "source": [
    "dust_file='DustError6.xlsx'  #Base de datos sin valores repetidos, Uniforme\n",
    "df_data=pd.read_excel(dust_file,sheet_name=0,skiprows=0)"
   ]
  },
  {
   "cell_type": "code",
   "execution_count": 7,
   "id": "fa076731",
   "metadata": {},
   "outputs": [
    {
     "data": {
      "text/plain": [
       "0      0.118887\n",
       "1      0.136488\n",
       "2      0.117742\n",
       "3      0.111854\n",
       "4      0.110440\n",
       "         ...   \n",
       "456    0.198861\n",
       "457    0.238710\n",
       "458    0.239869\n",
       "459    0.237982\n",
       "460    0.253443\n",
       "Name: valor, Length: 461, dtype: float64"
      ]
     },
     "execution_count": 7,
     "metadata": {},
     "output_type": "execute_result"
    }
   ],
   "source": [
    "df_data[df_data.columns[1]]"
   ]
  },
  {
   "cell_type": "code",
   "execution_count": 8,
   "id": "ad79b1b1",
   "metadata": {},
   "outputs": [
    {
     "data": {
      "text/plain": [
       "[<matplotlib.lines.Line2D at 0x27330820c40>]"
      ]
     },
     "execution_count": 8,
     "metadata": {},
     "output_type": "execute_result"
    },
    {
     "data": {
      "image/png": "[encoded data removed]",
      "text/plain": [
       "<Figure size 432x288 with 1 Axes>"
      ]
     },
     "metadata": {
      "needs_background": "light"
     },
     "output_type": "display_data"
    }
   ],
   "source": [
    "plt.plot(df_data[df_data.columns[1]],'o')"
   ]
  },
  {
   "cell_type": "code",
   "execution_count": 9,
   "id": "70b5ca38",
   "metadata": {},
   "outputs": [],
   "source": [
    "## ACA ELIJO CON CUAL PROXY VOY A TRABAJAR\n",
    "dataset=6\n",
    "n=dataset-1 #de python -> n+1 id dataset\n",
    "\n",
    "original_age_dust=df_data[df_data.columns[0]]\n",
    "original_values_dust=df_data[df_data.columns[1]]\n"
   ]
  },
  {
   "cell_type": "code",
   "execution_count": 10,
   "id": "7f341d93",
   "metadata": {},
   "outputs": [
    {
     "data": {
      "text/plain": [
       "0      0.118887\n",
       "1      0.136488\n",
       "2      0.117742\n",
       "3      0.111854\n",
       "4      0.110440\n",
       "         ...   \n",
       "456    0.198861\n",
       "457    0.238710\n",
       "458    0.239869\n",
       "459    0.237982\n",
       "460    0.253443\n",
       "Name: valor, Length: 461, dtype: float64"
      ]
     },
     "execution_count": 10,
     "metadata": {},
     "output_type": "execute_result"
    }
   ],
   "source": [
    "original_values_dust"
   ]
  },
  {
   "cell_type": "code",
   "execution_count": 11,
   "id": "4df213df",
   "metadata": {},
   "outputs": [
    {
     "name": "stdout",
     "output_type": "stream",
     "text": [
      "461\n",
      "461\n"
     ]
    }
   ],
   "source": [
    "\n",
    "\n",
    "#########################################\n",
    "d_nan=original_values_dust.isna()\n",
    "nan_in_row=[]\n",
    "for i in d_nan:\n",
    "    if i==False:\n",
    "        nan_in_row.append(0)\n",
    "    else:\n",
    "        nan_in_row.append(1)\n",
    "#########################################\n",
    "\n",
    "\n",
    "#contador de nan's in row\n",
    "aux=[]\n",
    "contador_de_nans=0\n",
    "for i in range(len(d_nan)):\n",
    "    if d_nan[i]==True:\n",
    "        contador_de_nans+=1\n",
    "    if d_nan[i]==False and contador_de_nans!=0:\n",
    "        #aux.append(0)\n",
    "        aux.append(contador_de_nans)\n",
    "        contador_de_nans=0\n",
    "#########################################\n",
    "\n",
    "new_dataset=[original_values_dust[n]] #n en vez de 0\n",
    "indice_aux=0\n",
    "indice_borrador=0\n",
    "\n",
    "for i in range(1,len(nan_in_row)):\n",
    "    if nan_in_row[i]==0:\n",
    "        new_dataset.append(original_values_dust[i])\n",
    "    if nan_in_row[i]==1:\n",
    "        #print(i-1,'    ',i+aux[indice_aux])\n",
    "        #print(indice_aux)\n",
    "        try:            \n",
    "            x = np.array([original_age_dust[i-1],original_age_dust[i+aux[indice_aux]]])#tomo el valo anterior y el siguiente\n",
    "            y = np.array([original_values_dust[i-1],original_values_dust[i+aux[indice_aux]]])#tomo el valo anterior y el siguiente\n",
    "            new_points=aux[indice_aux]\n",
    "            f2=interp1d(x, y, kind='linear')\n",
    "            xnew = np.linspace(x.min(), x.max(), num=int(new_points)+1, endpoint=False)\n",
    "            points=f2(xnew)\n",
    "            for p in range(1,len(points)):\n",
    "                new_dataset.append(points[p])\n",
    "            for j in range(1,aux[indice_aux]):\n",
    "                nan_in_row[i+j]=2\n",
    "            indice_aux+=1\n",
    "            \n",
    "        except:\n",
    "            print('error en intervalo',i+3,'      [',i+3-1,' - ',i+aux[-1],']   de excel')\n",
    "            print('len aux: ',len(aux))\n",
    "            print('indice aux: ',indice_aux,'\\n')\n",
    "            indice_aux+=1    \n",
    "\n",
    "print(len(original_values_dust))\n",
    "print(len(new_dataset))   "
   ]
  },
  {
   "cell_type": "code",
   "execution_count": 12,
   "id": "e1bbbb43",
   "metadata": {},
   "outputs": [],
   "source": [
    "dust6_interpolado=pd.DataFrame(new_dataset, columns = ['values'])\n",
    "dust6_interpolado.to_excel('dust6_interpolado.xlsx')"
   ]
  },
  {
   "cell_type": "code",
   "execution_count": null,
   "id": "526950cc",
   "metadata": {},
   "outputs": [],
   "source": []
  }
 ],
 "metadata": {
  "kernelspec": {
   "display_name": "Python 3",
   "language": "python",
   "name": "python3"
  },
  "language_info": {
   "codemirror_mode": {
    "name": "ipython",
    "version": 3
   },
   "file_extension": ".py",
   "mimetype": "text/x-python",
   "name": "python",
   "nbconvert_exporter": "python",
   "pygments_lexer": "ipython3",
   "version": "3.8.8"
  }
 },
 "nbformat": 4,
 "nbformat_minor": 5
}
